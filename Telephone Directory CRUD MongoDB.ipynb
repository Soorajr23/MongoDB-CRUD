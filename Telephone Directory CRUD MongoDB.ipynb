{
 "cells": [
  {
   "cell_type": "code",
   "execution_count": 7,
   "id": "92cba1ae",
   "metadata": {},
   "outputs": [],
   "source": [
    "from pymongo import MongoClient\n",
    "from pprint import pprint"
   ]
  },
  {
   "cell_type": "code",
   "execution_count": 8,
   "id": "62088a57",
   "metadata": {},
   "outputs": [],
   "source": [
    "client = MongoClient(\"mongodb://localhost:27017\")"
   ]
  },
  {
   "cell_type": "code",
   "execution_count": 9,
   "id": "4a359e0a",
   "metadata": {},
   "outputs": [
    {
     "data": {
      "text/plain": [
       "['admin',\n",
       " 'config',\n",
       " 'dataanalytics',\n",
       " 'guvi_iit_ds',\n",
       " 'local',\n",
       " 'orders',\n",
       " 'student',\n",
       " 'telephone']"
      ]
     },
     "execution_count": 9,
     "metadata": {},
     "output_type": "execute_result"
    }
   ],
   "source": [
    "client.list_database_names()"
   ]
  },
  {
   "cell_type": "markdown",
   "id": "dc24f6a5",
   "metadata": {},
   "source": [
    "# Creating a New Database & Collection of telephone Directory "
   ]
  },
  {
   "cell_type": "code",
   "execution_count": 10,
   "id": "cd3f166a",
   "metadata": {},
   "outputs": [],
   "source": [
    "db = client['telephone']"
   ]
  },
  {
   "cell_type": "code",
   "execution_count": 11,
   "id": "ac4dfdc7",
   "metadata": {},
   "outputs": [],
   "source": [
    "my_col = db['directory']"
   ]
  },
  {
   "cell_type": "markdown",
   "id": "1f993dd5",
   "metadata": {},
   "source": [
    "# Inserting Feilds into the Directory by insert one & insert many opearations"
   ]
  },
  {
   "cell_type": "code",
   "execution_count": null,
   "id": "1e5970ec",
   "metadata": {},
   "outputs": [],
   "source": [
    "# Inserting a single value \n",
    "doc = {\"_id\" : 1,'Name' : \"Sooraj\", \"Phone_no\" : 123456789, \"Address\" : \"abc street\", \"Location\" : \"Chennai\"}\n",
    "my_col.insert_one(doc)"
   ]
  },
  {
   "cell_type": "code",
   "execution_count": null,
   "id": "d9a561a6",
   "metadata": {},
   "outputs": [],
   "source": [
    "# Finding the values in the collection \n",
    "for i in my_col.find():\n",
    "    pprint(i)"
   ]
  },
  {
   "cell_type": "code",
   "execution_count": null,
   "id": "5132b765",
   "metadata": {},
   "outputs": [],
   "source": [
    "# Creating a list of collections \n",
    "phone_list = [{\"_id\" : 2,'Name' : \"Neeraj\", \"Phone_no\" : 987654321, \"Address\" : \"bbc street\", \"Location\" : \"Chennai\"},\n",
    "              {\"_id\" : 3,'Name' : \"Mark\", \"Phone_no\" : 123987456, \"Address\" : \"bac street\", \"Location\" : \"Chennai\"},\n",
    "              {\"_id\" : 4,'Name' : \"Anthony\", \"Phone_no\" : 987321654, \"Address\" : \"cab street\", \"Location\" : \"Chennai\"},\n",
    "              {\"_id\" : 5,'Name' : \"Vikram\", \"Phone_no\" : 918273645, \"Address\" : \"aaa street\", \"Location\" : \"Chennai\"},\n",
    "              {\"_id\" : 6,'Name' : \"Jack\", \"Phone_no\" : 192837465, \"Address\" : \"bbb street\", \"Location\" : \"NCR\"},\n",
    "              {\"_id\" : 7,'Name' : \"Mason\", \"Phone_no\" : 998877665, \"Address\" : \"ccc street\", \"Location\" : \"NCR\"},\n",
    "              {\"_id\" : 8,'Name' : \"Rahim\", \"Phone_no\" : 978675645, \"Address\" : \"bca street\", \"Location\" : \"Mumbai\"},\n",
    "              {\"_id\" : 9,'Name' : \"Gopal\", \"Phone_no\" : 867564532, \"Address\" : \"cba street\", \"Location\" : \"Mumbai\"},\n",
    "              {\"_id\" : 10,'Name' : \"Krishnan\", \"Phone_no\" : 908897786, \"Address\" : \"abc street\", \"Location\" : \"Bangalore\"},\n",
    "              {\"_id\" : 11,'Name' : \"Kumar\", \"Phone_no\" : 978675567, \"Address\" : \"aca street\", \"Location\" : \"Bangalore\"},\n",
    "              {\"_id\" : 12,'Name' : \"Micheal\", \"Phone_no\" : 143567387, \"Address\" : \"aba street\", \"Location\" : \"Coimbatore\"}\n",
    "             ]"
   ]
  },
  {
   "cell_type": "code",
   "execution_count": null,
   "id": "78a57a3a",
   "metadata": {},
   "outputs": [],
   "source": [
    "# Inserting a list of collections\n",
    "my_col.insert_many(phone_list)"
   ]
  },
  {
   "cell_type": "code",
   "execution_count": null,
   "id": "8d042790",
   "metadata": {},
   "outputs": [],
   "source": [
    "# Finding the List of fields \n",
    "for i in my_col.find():\n",
    "    pprint(i)"
   ]
  },
  {
   "cell_type": "code",
   "execution_count": null,
   "id": "6b7aac1f",
   "metadata": {},
   "outputs": [],
   "source": [
    "# Finding values with certain criteria\n",
    "for i in my_col.find({\"Location\":\"Chennai\"}, {\"_id\" : 0, \"Name\" : 1, \"Phone_no\": 1}):\n",
    "    pprint(i)"
   ]
  },
  {
   "cell_type": "code",
   "execution_count": null,
   "id": "f2a320bb",
   "metadata": {},
   "outputs": [],
   "source": [
    "# Finding values with certain criteria\n",
    "for i in my_col.find({\"Address\":\"abc street\", \"Location\" : \"Bangalore\"}, {\"_id\" : 1, \"Name\" : 1, \"Phone_no\" : 1}):\n",
    "    pprint(i)"
   ]
  },
  {
   "cell_type": "markdown",
   "id": "caf98d0f",
   "metadata": {},
   "source": [
    "# Updating the fields from the respective collection"
   ]
  },
  {
   "cell_type": "code",
   "execution_count": null,
   "id": "19df11db",
   "metadata": {},
   "outputs": [],
   "source": [
    "# Updating a field with a certain condition\n",
    "q = {\"Address\" : \"abc street\", \"Location\" : \"Bangalore\"}\n",
    "u = {\"$set\" : {\"Location\": \"Chennai\"}}\n",
    "my_col.update_one(q,u)"
   ]
  },
  {
   "cell_type": "code",
   "execution_count": null,
   "id": "fe17cb39",
   "metadata": {},
   "outputs": [],
   "source": [
    "for i in my_col.find({\"Address\" : \"abc street\"}):\n",
    "    pprint(i)"
   ]
  },
  {
   "cell_type": "code",
   "execution_count": null,
   "id": "806cc26b",
   "metadata": {},
   "outputs": [],
   "source": [
    "# Updating a field with a certain condition\n",
    "q = {\"Location\" : \"Coimbatore\"}\n",
    "u = {\"$unset\" : {\"Address\":\"\"}}\n",
    "my_col.update_one(q,u)"
   ]
  },
  {
   "cell_type": "code",
   "execution_count": null,
   "id": "b68b7c03",
   "metadata": {},
   "outputs": [],
   "source": [
    "for i in my_col.find({\"Location\": \"Coimbatore\"}):\n",
    "    pprint(i)"
   ]
  },
  {
   "cell_type": "code",
   "execution_count": null,
   "id": "70e1184e",
   "metadata": {},
   "outputs": [],
   "source": [
    "# Updating a field with a certain condition\n",
    "q = {\"Location\" : \"Coimbatore\"}\n",
    "u = {\"$set\" : {\"Address\":\"bac Street\"}}\n",
    "my_col.update_one(q,u)"
   ]
  },
  {
   "cell_type": "code",
   "execution_count": null,
   "id": "d19f9152",
   "metadata": {},
   "outputs": [],
   "source": [
    "for i in my_col.find({\"Location\": \"Coimbatore\"}):\n",
    "    pprint(i)"
   ]
  },
  {
   "cell_type": "code",
   "execution_count": 12,
   "id": "d5bc6485",
   "metadata": {},
   "outputs": [
    {
     "name": "stdout",
     "output_type": "stream",
     "text": [
      "{'Address': 'abc street',\n",
      " 'Location': 'Chennai',\n",
      " 'Name': 'Sooraj',\n",
      " 'Phone_no': 123456789,\n",
      " '_id': 1}\n",
      "{'Address': 'bbc street',\n",
      " 'Location': 'Chennai',\n",
      " 'Name': 'Neeraj',\n",
      " 'Phone_no': 987654321,\n",
      " '_id': 2}\n",
      "{'Address': 'bac street',\n",
      " 'Location': 'Chennai',\n",
      " 'Name': 'Mark',\n",
      " 'Phone_no': 123987456,\n",
      " '_id': 3}\n",
      "{'Address': 'cab street',\n",
      " 'Location': 'Chennai',\n",
      " 'Name': 'Anthony',\n",
      " 'Phone_no': 987321654,\n",
      " '_id': 4}\n",
      "{'Address': 'aaa street',\n",
      " 'Location': 'Chennai',\n",
      " 'Name': 'Vikram',\n",
      " 'Phone_no': 918273645,\n",
      " '_id': 5}\n",
      "{'Address': 'bbb street',\n",
      " 'Location': 'NCR',\n",
      " 'Name': 'Jack',\n",
      " 'Phone_no': 192837465,\n",
      " '_id': 6}\n",
      "{'Address': 'ccc street',\n",
      " 'Location': 'NCR',\n",
      " 'Name': 'Mason',\n",
      " 'Phone_no': 998877665,\n",
      " '_id': 7}\n",
      "{'Address': 'bca street',\n",
      " 'Location': 'Mumbai',\n",
      " 'Name': 'Rahim',\n",
      " 'Phone_no': 978675645,\n",
      " '_id': 8}\n",
      "{'Address': 'cba street',\n",
      " 'Location': 'Mumbai',\n",
      " 'Name': 'Gopal',\n",
      " 'Phone_no': 867564532,\n",
      " '_id': 9}\n",
      "{'Address': 'abc street',\n",
      " 'Location': 'Chennai',\n",
      " 'Name': 'Krishnan',\n",
      " 'Phone_no': 908897786,\n",
      " '_id': 10}\n",
      "{'Address': 'aca street',\n",
      " 'Location': 'Bangalore',\n",
      " 'Name': 'Kumar',\n",
      " 'Phone_no': 978675567,\n",
      " '_id': 11}\n",
      "{'Address': 'bac Street',\n",
      " 'Location': 'Coimbatore',\n",
      " 'Name': 'Micheal',\n",
      " 'Phone_no': 143567387,\n",
      " '_id': 12}\n"
     ]
    }
   ],
   "source": [
    "for i in my_col.find():\n",
    "    pprint(i)"
   ]
  },
  {
   "cell_type": "markdown",
   "id": "b8daf83e",
   "metadata": {},
   "source": [
    "# Deleting fields inside of the collection \"D\""
   ]
  },
  {
   "cell_type": "code",
   "execution_count": 16,
   "id": "00ef61f4",
   "metadata": {},
   "outputs": [
    {
     "data": {
      "text/plain": [
       "<pymongo.results.DeleteResult at 0x1a188ddec70>"
      ]
     },
     "execution_count": 16,
     "metadata": {},
     "output_type": "execute_result"
    }
   ],
   "source": [
    "my_col.delete_one({\"_id\":12})"
   ]
  },
  {
   "cell_type": "code",
   "execution_count": 17,
   "id": "a83f080b",
   "metadata": {},
   "outputs": [
    {
     "name": "stdout",
     "output_type": "stream",
     "text": [
      "{'Address': 'abc street',\n",
      " 'Location': 'Chennai',\n",
      " 'Name': 'Sooraj',\n",
      " 'Phone_no': 123456789,\n",
      " '_id': 1}\n",
      "{'Address': 'bbc street',\n",
      " 'Location': 'Chennai',\n",
      " 'Name': 'Neeraj',\n",
      " 'Phone_no': 987654321,\n",
      " '_id': 2}\n",
      "{'Address': 'bac street',\n",
      " 'Location': 'Chennai',\n",
      " 'Name': 'Mark',\n",
      " 'Phone_no': 123987456,\n",
      " '_id': 3}\n",
      "{'Address': 'cab street',\n",
      " 'Location': 'Chennai',\n",
      " 'Name': 'Anthony',\n",
      " 'Phone_no': 987321654,\n",
      " '_id': 4}\n",
      "{'Address': 'aaa street',\n",
      " 'Location': 'Chennai',\n",
      " 'Name': 'Vikram',\n",
      " 'Phone_no': 918273645,\n",
      " '_id': 5}\n",
      "{'Address': 'bbb street',\n",
      " 'Location': 'NCR',\n",
      " 'Name': 'Jack',\n",
      " 'Phone_no': 192837465,\n",
      " '_id': 6}\n",
      "{'Address': 'ccc street',\n",
      " 'Location': 'NCR',\n",
      " 'Name': 'Mason',\n",
      " 'Phone_no': 998877665,\n",
      " '_id': 7}\n",
      "{'Address': 'bca street',\n",
      " 'Location': 'Mumbai',\n",
      " 'Name': 'Rahim',\n",
      " 'Phone_no': 978675645,\n",
      " '_id': 8}\n",
      "{'Address': 'cba street',\n",
      " 'Location': 'Mumbai',\n",
      " 'Name': 'Gopal',\n",
      " 'Phone_no': 867564532,\n",
      " '_id': 9}\n",
      "{'Address': 'abc street',\n",
      " 'Location': 'Chennai',\n",
      " 'Name': 'Krishnan',\n",
      " 'Phone_no': 908897786,\n",
      " '_id': 10}\n",
      "{'Address': 'aca street',\n",
      " 'Location': 'Bangalore',\n",
      " 'Name': 'Kumar',\n",
      " 'Phone_no': 978675567,\n",
      " '_id': 11}\n"
     ]
    }
   ],
   "source": [
    "for i in my_col.find():\n",
    "    pprint(i)"
   ]
  },
  {
   "cell_type": "code",
   "execution_count": 18,
   "id": "f25c7627",
   "metadata": {},
   "outputs": [
    {
     "data": {
      "text/plain": [
       "<pymongo.results.DeleteResult at 0x1a188dded00>"
      ]
     },
     "execution_count": 18,
     "metadata": {},
     "output_type": "execute_result"
    }
   ],
   "source": [
    "# Deleting Many records in a collection specifying a condition\n",
    "my_col.delete_many({\"Address\": \"abc street\"})"
   ]
  },
  {
   "cell_type": "code",
   "execution_count": 20,
   "id": "bb428615",
   "metadata": {},
   "outputs": [
    {
     "name": "stdout",
     "output_type": "stream",
     "text": [
      "{'Address': 'bbc street',\n",
      " 'Location': 'Chennai',\n",
      " 'Name': 'Neeraj',\n",
      " 'Phone_no': 987654321,\n",
      " '_id': 2}\n",
      "{'Address': 'bac street',\n",
      " 'Location': 'Chennai',\n",
      " 'Name': 'Mark',\n",
      " 'Phone_no': 123987456,\n",
      " '_id': 3}\n",
      "{'Address': 'cab street',\n",
      " 'Location': 'Chennai',\n",
      " 'Name': 'Anthony',\n",
      " 'Phone_no': 987321654,\n",
      " '_id': 4}\n",
      "{'Address': 'aaa street',\n",
      " 'Location': 'Chennai',\n",
      " 'Name': 'Vikram',\n",
      " 'Phone_no': 918273645,\n",
      " '_id': 5}\n",
      "{'Address': 'bbb street',\n",
      " 'Location': 'NCR',\n",
      " 'Name': 'Jack',\n",
      " 'Phone_no': 192837465,\n",
      " '_id': 6}\n",
      "{'Address': 'ccc street',\n",
      " 'Location': 'NCR',\n",
      " 'Name': 'Mason',\n",
      " 'Phone_no': 998877665,\n",
      " '_id': 7}\n",
      "{'Address': 'bca street',\n",
      " 'Location': 'Mumbai',\n",
      " 'Name': 'Rahim',\n",
      " 'Phone_no': 978675645,\n",
      " '_id': 8}\n",
      "{'Address': 'cba street',\n",
      " 'Location': 'Mumbai',\n",
      " 'Name': 'Gopal',\n",
      " 'Phone_no': 867564532,\n",
      " '_id': 9}\n",
      "{'Address': 'aca street',\n",
      " 'Location': 'Bangalore',\n",
      " 'Name': 'Kumar',\n",
      " 'Phone_no': 978675567,\n",
      " '_id': 11}\n"
     ]
    }
   ],
   "source": [
    "for i in my_col.find():\n",
    "    pprint(i)"
   ]
  }
 ],
 "metadata": {
  "kernelspec": {
   "display_name": "Python 3 (ipykernel)",
   "language": "python",
   "name": "python3"
  },
  "language_info": {
   "codemirror_mode": {
    "name": "ipython",
    "version": 3
   },
   "file_extension": ".py",
   "mimetype": "text/x-python",
   "name": "python",
   "nbconvert_exporter": "python",
   "pygments_lexer": "ipython3",
   "version": "3.9.12"
  }
 },
 "nbformat": 4,
 "nbformat_minor": 5
}
